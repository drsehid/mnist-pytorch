{
 "cells": [
  {
   "cell_type": "code",
   "execution_count": 1,
   "id": "c14da419",
   "metadata": {
    "_cell_guid": "b1076dfc-b9ad-4769-8c92-a6c4dae69d19",
    "_uuid": "8f2839f25d086af736a60e9eeb907d3b93b6e0e5",
    "execution": {
     "iopub.execute_input": "2023-06-05T12:35:45.112843Z",
     "iopub.status.busy": "2023-06-05T12:35:45.112497Z",
     "iopub.status.idle": "2023-06-05T12:35:48.504813Z",
     "shell.execute_reply": "2023-06-05T12:35:48.503920Z"
    },
    "papermill": {
     "duration": 3.40588,
     "end_time": "2023-06-05T12:35:48.507528",
     "exception": false,
     "start_time": "2023-06-05T12:35:45.101648",
     "status": "completed"
    },
    "tags": []
   },
   "outputs": [],
   "source": [
    "import numpy as np\n",
    "import pandas as pd\n",
    "import matplotlib.pyplot as plt\n",
    "import os\n",
    "import random\n",
    "import warnings\n",
    "warnings.filterwarnings('ignore')\n",
    "import torch\n",
    "from torch.utils.data import Dataset, DataLoader\n",
    "from pathlib import Path"
   ]
  },
  {
   "cell_type": "markdown",
   "id": "f6a1e0dc",
   "metadata": {
    "papermill": {
     "duration": 0.008776,
     "end_time": "2023-06-05T12:35:48.525449",
     "exception": false,
     "start_time": "2023-06-05T12:35:48.516673",
     "status": "completed"
    },
    "tags": []
   },
   "source": [
    "# 1. Dataset"
   ]
  },
  {
   "cell_type": "code",
   "execution_count": 2,
   "id": "f7333e16",
   "metadata": {
    "execution": {
     "iopub.execute_input": "2023-06-05T12:35:48.544991Z",
     "iopub.status.busy": "2023-06-05T12:35:48.544002Z",
     "iopub.status.idle": "2023-06-05T12:35:54.288630Z",
     "shell.execute_reply": "2023-06-05T12:35:54.287646Z"
    },
    "papermill": {
     "duration": 5.7568,
     "end_time": "2023-06-05T12:35:54.291000",
     "exception": false,
     "start_time": "2023-06-05T12:35:48.534200",
     "status": "completed"
    },
    "tags": []
   },
   "outputs": [],
   "source": [
    "train = pd.read_csv(\"/kaggle/input/digit-recognizer/train.csv\")\n",
    "test = pd.read_csv(\"/kaggle/input/digit-recognizer/test.csv\")"
   ]
  },
  {
   "cell_type": "code",
   "execution_count": 3,
   "id": "0a30b143",
   "metadata": {
    "execution": {
     "iopub.execute_input": "2023-06-05T12:35:54.310276Z",
     "iopub.status.busy": "2023-06-05T12:35:54.309968Z",
     "iopub.status.idle": "2023-06-05T12:35:54.396106Z",
     "shell.execute_reply": "2023-06-05T12:35:54.395145Z"
    },
    "papermill": {
     "duration": 0.098353,
     "end_time": "2023-06-05T12:35:54.398587",
     "exception": false,
     "start_time": "2023-06-05T12:35:54.300234",
     "status": "completed"
    },
    "tags": []
   },
   "outputs": [],
   "source": [
    "labels_tr = train['label']\n",
    "images_tr = train.drop(columns=['label'])"
   ]
  },
  {
   "cell_type": "code",
   "execution_count": 4,
   "id": "7be44325",
   "metadata": {
    "execution": {
     "iopub.execute_input": "2023-06-05T12:35:54.417898Z",
     "iopub.status.busy": "2023-06-05T12:35:54.417613Z",
     "iopub.status.idle": "2023-06-05T12:35:54.577907Z",
     "shell.execute_reply": "2023-06-05T12:35:54.574370Z"
    },
    "papermill": {
     "duration": 0.173233,
     "end_time": "2023-06-05T12:35:54.581141",
     "exception": false,
     "start_time": "2023-06-05T12:35:54.407908",
     "status": "completed"
    },
    "tags": []
   },
   "outputs": [],
   "source": [
    "images_arr_tr = np.array(images_tr).reshape(images_tr.shape[0], 28, 28)\n",
    "images_arr_ts = np.array(test).reshape(test.shape[0], 28, 28)"
   ]
  },
  {
   "cell_type": "code",
   "execution_count": 5,
   "id": "440776dc",
   "metadata": {
    "execution": {
     "iopub.execute_input": "2023-06-05T12:35:54.618550Z",
     "iopub.status.busy": "2023-06-05T12:35:54.618256Z",
     "iopub.status.idle": "2023-06-05T12:35:54.629551Z",
     "shell.execute_reply": "2023-06-05T12:35:54.628596Z"
    },
    "papermill": {
     "duration": 0.034793,
     "end_time": "2023-06-05T12:35:54.633843",
     "exception": false,
     "start_time": "2023-06-05T12:35:54.599050",
     "status": "completed"
    },
    "tags": []
   },
   "outputs": [
    {
     "data": {
      "text/plain": [
       "((42000, 28, 28), (28000, 28, 28))"
      ]
     },
     "execution_count": 5,
     "metadata": {},
     "output_type": "execute_result"
    }
   ],
   "source": [
    "images_arr_tr.shape, images_arr_ts.shape"
   ]
  },
  {
   "cell_type": "code",
   "execution_count": 6,
   "id": "c3c12d46",
   "metadata": {
    "execution": {
     "iopub.execute_input": "2023-06-05T12:35:54.664897Z",
     "iopub.status.busy": "2023-06-05T12:35:54.664524Z",
     "iopub.status.idle": "2023-06-05T12:35:54.674165Z",
     "shell.execute_reply": "2023-06-05T12:35:54.671565Z"
    },
    "papermill": {
     "duration": 0.027535,
     "end_time": "2023-06-05T12:35:54.677468",
     "exception": false,
     "start_time": "2023-06-05T12:35:54.649933",
     "status": "completed"
    },
    "tags": []
   },
   "outputs": [
    {
     "data": {
      "text/plain": [
       "(28, 28)"
      ]
     },
     "execution_count": 6,
     "metadata": {},
     "output_type": "execute_result"
    }
   ],
   "source": [
    "images_arr_tr[0].shape"
   ]
  },
  {
   "cell_type": "markdown",
   "id": "e70ef301",
   "metadata": {
    "papermill": {
     "duration": 0.013123,
     "end_time": "2023-06-05T12:35:54.704179",
     "exception": false,
     "start_time": "2023-06-05T12:35:54.691056",
     "status": "completed"
    },
    "tags": []
   },
   "source": [
    "### Showing some of the images"
   ]
  },
  {
   "cell_type": "code",
   "execution_count": 7,
   "id": "b4184a1b",
   "metadata": {
    "execution": {
     "iopub.execute_input": "2023-06-05T12:35:54.733058Z",
     "iopub.status.busy": "2023-06-05T12:35:54.732802Z",
     "iopub.status.idle": "2023-06-05T12:35:55.733045Z",
     "shell.execute_reply": "2023-06-05T12:35:55.732024Z"
    },
    "papermill": {
     "duration": 1.01599,
     "end_time": "2023-06-05T12:35:55.735076",
     "exception": false,
     "start_time": "2023-06-05T12:35:54.719086",
     "status": "completed"
    },
    "tags": []
   },
   "outputs": [
    {
     "data": {
      "image/png": "[encoded data removed]",
      "text/plain": [
       "<Figure size 500x500 with 9 Axes>"
      ]
     },
     "metadata": {},
     "output_type": "display_data"
    }
   ],
   "source": [
    "def show_images(images, n):\n",
    "    rows = int(np.floor(np.sqrt(n)))\n",
    "    cols = n // rows\n",
    "    fig, axes = plt.subplots(rows, cols, figsize=(5, 5))\n",
    "    count = 0\n",
    "    for i in range(rows):\n",
    "        for j in range(cols):\n",
    "            axes[i][j].imshow(images[count])\n",
    "            count += 1\n",
    "\n",
    "show_images(images_arr_ts, n=10)"
   ]
  },
  {
   "cell_type": "markdown",
   "id": "01964867",
   "metadata": {
    "papermill": {
     "duration": 0.009169,
     "end_time": "2023-06-05T12:35:55.753844",
     "exception": false,
     "start_time": "2023-06-05T12:35:55.744675",
     "status": "completed"
    },
    "tags": []
   },
   "source": [
    "### Save Numpy array dataset into directories(format=\".npy\")"
   ]
  },
  {
   "cell_type": "code",
   "execution_count": 8,
   "id": "18ab6d73",
   "metadata": {
    "execution": {
     "iopub.execute_input": "2023-06-05T12:35:55.774069Z",
     "iopub.status.busy": "2023-06-05T12:35:55.773315Z",
     "iopub.status.idle": "2023-06-05T12:35:55.782479Z",
     "shell.execute_reply": "2023-06-05T12:35:55.781618Z"
    },
    "papermill": {
     "duration": 0.021383,
     "end_time": "2023-06-05T12:35:55.784525",
     "exception": false,
     "start_time": "2023-06-05T12:35:55.763142",
     "status": "completed"
    },
    "tags": []
   },
   "outputs": [],
   "source": [
    "labels = list(set(labels_tr))"
   ]
  },
  {
   "cell_type": "code",
   "execution_count": 9,
   "id": "4c75f307",
   "metadata": {
    "execution": {
     "iopub.execute_input": "2023-06-05T12:35:55.804651Z",
     "iopub.status.busy": "2023-06-05T12:35:55.804400Z",
     "iopub.status.idle": "2023-06-05T12:35:55.809574Z",
     "shell.execute_reply": "2023-06-05T12:35:55.808763Z"
    },
    "papermill": {
     "duration": 0.01733,
     "end_time": "2023-06-05T12:35:55.811532",
     "exception": false,
     "start_time": "2023-06-05T12:35:55.794202",
     "status": "completed"
    },
    "tags": []
   },
   "outputs": [],
   "source": [
    "train_path = Path('./data/train')\n",
    "test_path = Path('./data/test')\n",
    "val_path = Path('./data/val')"
   ]
  },
  {
   "cell_type": "code",
   "execution_count": 10,
   "id": "b0a6535b",
   "metadata": {
    "execution": {
     "iopub.execute_input": "2023-06-05T12:35:55.831348Z",
     "iopub.status.busy": "2023-06-05T12:35:55.831067Z",
     "iopub.status.idle": "2023-06-05T12:35:56.049827Z",
     "shell.execute_reply": "2023-06-05T12:35:56.048775Z"
    },
    "papermill": {
     "duration": 0.231072,
     "end_time": "2023-06-05T12:35:56.052040",
     "exception": false,
     "start_time": "2023-06-05T12:35:55.820968",
     "status": "completed"
    },
    "tags": []
   },
   "outputs": [],
   "source": [
    "all_images = [(labels_tr[i], images_arr_tr[i]) for i in range(len(labels_tr))]"
   ]
  },
  {
   "cell_type": "code",
   "execution_count": 11,
   "id": "bc3588f1",
   "metadata": {
    "execution": {
     "iopub.execute_input": "2023-06-05T12:35:56.072312Z",
     "iopub.status.busy": "2023-06-05T12:35:56.071576Z",
     "iopub.status.idle": "2023-06-05T12:35:56.108892Z",
     "shell.execute_reply": "2023-06-05T12:35:56.108129Z"
    },
    "papermill": {
     "duration": 0.049376,
     "end_time": "2023-06-05T12:35:56.110867",
     "exception": false,
     "start_time": "2023-06-05T12:35:56.061491",
     "status": "completed"
    },
    "tags": []
   },
   "outputs": [],
   "source": [
    "random_data = random.shuffle(all_images)\n",
    "train_size = 0.95 * len(all_images)"
   ]
  },
  {
   "cell_type": "code",
   "execution_count": 12,
   "id": "d22e5d38",
   "metadata": {
    "execution": {
     "iopub.execute_input": "2023-06-05T12:35:56.130960Z",
     "iopub.status.busy": "2023-06-05T12:35:56.130706Z",
     "iopub.status.idle": "2023-06-05T12:36:04.135530Z",
     "shell.execute_reply": "2023-06-05T12:36:04.134562Z"
    },
    "papermill": {
     "duration": 8.017446,
     "end_time": "2023-06-05T12:36:04.137949",
     "exception": false,
     "start_time": "2023-06-05T12:35:56.120503",
     "status": "completed"
    },
    "tags": []
   },
   "outputs": [],
   "source": [
    "# Train and Validation set\n",
    "for i, (label, image_arr) in enumerate(all_images):\n",
    "    if i < train_size:\n",
    "        image_path = train_path/str(label)\n",
    "    else: \n",
    "        image_path = val_path/str(label)\n",
    "    \n",
    "    image_path.mkdir(parents=True, exist_ok=True)\n",
    "    np.save(image_path/str(i), image_arr)"
   ]
  },
  {
   "cell_type": "code",
   "execution_count": 13,
   "id": "5dde83da",
   "metadata": {
    "execution": {
     "iopub.execute_input": "2023-06-05T12:36:04.159866Z",
     "iopub.status.busy": "2023-06-05T12:36:04.158315Z",
     "iopub.status.idle": "2023-06-05T12:36:08.490870Z",
     "shell.execute_reply": "2023-06-05T12:36:08.489935Z"
    },
    "papermill": {
     "duration": 4.345892,
     "end_time": "2023-06-05T12:36:08.493605",
     "exception": false,
     "start_time": "2023-06-05T12:36:04.147713",
     "status": "completed"
    },
    "tags": []
   },
   "outputs": [],
   "source": [
    "# Test set\n",
    "for i, image_arr in enumerate(images_arr_ts):\n",
    "    test_path.mkdir(parents=True, exist_ok=True)\n",
    "    np.save(test_path/str(i), image_arr)"
   ]
  },
  {
   "cell_type": "code",
   "execution_count": 14,
   "id": "25466e47",
   "metadata": {
    "execution": {
     "iopub.execute_input": "2023-06-05T12:36:08.514010Z",
     "iopub.status.busy": "2023-06-05T12:36:08.513728Z",
     "iopub.status.idle": "2023-06-05T12:36:08.522910Z",
     "shell.execute_reply": "2023-06-05T12:36:08.522070Z"
    },
    "papermill": {
     "duration": 0.021727,
     "end_time": "2023-06-05T12:36:08.524970",
     "exception": false,
     "start_time": "2023-06-05T12:36:08.503243",
     "status": "completed"
    },
    "tags": []
   },
   "outputs": [],
   "source": [
    "class MNISTDataset(Dataset):\n",
    "    def __init__(self, root, transform=None):\n",
    "        self.root_dir = root\n",
    "        self.transform = transform\n",
    "        self.file_list = []\n",
    "        \n",
    "        for folder in os.listdir(self.root_dir):\n",
    "            sub_path = os.path.join(self.root_dir, folder)\n",
    "            \n",
    "            if \"test\" in self.root_dir:\n",
    "                self.file_list.append((sub_path, 0))\n",
    "            else:\n",
    "                for file in os.listdir(sub_path):\n",
    "                    file_path = os.path.join(sub_path, file)\n",
    "                    self.file_list.append((file_path, int(folder)))\n",
    "        \n",
    "    def __len__(self):\n",
    "        return len(self.file_list)\n",
    "        \n",
    "    def __getitem__(self, idx):\n",
    "        item = self.file_list[idx]\n",
    "        data = np.load(item[0])\n",
    "\n",
    "        if self.transform:\n",
    "            data = self.transform(data.astype(np.float32))\n",
    "                \n",
    "        if 'test' in item[0]:\n",
    "            return data\n",
    "        else:\n",
    "            return data, item[1]"
   ]
  },
  {
   "cell_type": "code",
   "execution_count": 15,
   "id": "2555821f",
   "metadata": {
    "execution": {
     "iopub.execute_input": "2023-06-05T12:36:08.544668Z",
     "iopub.status.busy": "2023-06-05T12:36:08.544403Z",
     "iopub.status.idle": "2023-06-05T12:36:08.780514Z",
     "shell.execute_reply": "2023-06-05T12:36:08.779627Z"
    },
    "papermill": {
     "duration": 0.248511,
     "end_time": "2023-06-05T12:36:08.782686",
     "exception": false,
     "start_time": "2023-06-05T12:36:08.534175",
     "status": "completed"
    },
    "tags": []
   },
   "outputs": [],
   "source": [
    "from torchvision.transforms import ToTensor, Normalize, RandomRotation, RandomAffine, RandomCrop\n",
    "import torchvision.transforms as T\n",
    "\n",
    "mean = 0.5\n",
    "std = 0.5\n",
    "\n",
    "tsms = T.Compose([\n",
    "    ToTensor(),\n",
    "    Normalize((mean,), (std,))\n",
    "])\n",
    "\n",
    "\n",
    "# Define the transformations\n",
    "train_tsms = T.Compose([\n",
    "    ToTensor(),\n",
    "    RandomRotation(10),\n",
    "    RandomAffine(degrees=0, translate=(0.1, 0.1), scale=(0.8, 1.2), shear=10),\n",
    "    Normalize((mean,), (std,))\n",
    "])\n"
   ]
  },
  {
   "cell_type": "code",
   "execution_count": 16,
   "id": "6d5f79fc",
   "metadata": {
    "execution": {
     "iopub.execute_input": "2023-06-05T12:36:08.803019Z",
     "iopub.status.busy": "2023-06-05T12:36:08.802745Z",
     "iopub.status.idle": "2023-06-05T12:36:08.997329Z",
     "shell.execute_reply": "2023-06-05T12:36:08.996391Z"
    },
    "papermill": {
     "duration": 0.206997,
     "end_time": "2023-06-05T12:36:08.999467",
     "exception": false,
     "start_time": "2023-06-05T12:36:08.792470",
     "status": "completed"
    },
    "tags": []
   },
   "outputs": [],
   "source": [
    "train_dataset = MNISTDataset('./data/train', transform=train_tsms)\n",
    "val_dataset = MNISTDataset('./data/val', transform=tsms)\n",
    "test_dataset = MNISTDataset('./data/test', transform=tsms)"
   ]
  },
  {
   "cell_type": "code",
   "execution_count": 17,
   "id": "f72606c0",
   "metadata": {
    "execution": {
     "iopub.execute_input": "2023-06-05T12:36:09.019563Z",
     "iopub.status.busy": "2023-06-05T12:36:09.019278Z",
     "iopub.status.idle": "2023-06-05T12:36:09.024412Z",
     "shell.execute_reply": "2023-06-05T12:36:09.023483Z"
    },
    "papermill": {
     "duration": 0.017252,
     "end_time": "2023-06-05T12:36:09.026315",
     "exception": false,
     "start_time": "2023-06-05T12:36:09.009063",
     "status": "completed"
    },
    "tags": []
   },
   "outputs": [],
   "source": [
    "batch_size = 256\n",
    "\n",
    "# Pytorch data loaders\n",
    "train_dl = DataLoader(train_dataset, batch_size, shuffle=True, num_workers=2, pin_memory=True)\n",
    "val_dl = DataLoader(val_dataset, batch_size, shuffle=False, num_workers=2, pin_memory=True)"
   ]
  },
  {
   "cell_type": "code",
   "execution_count": 18,
   "id": "9632a1f9",
   "metadata": {
    "execution": {
     "iopub.execute_input": "2023-06-05T12:36:09.046393Z",
     "iopub.status.busy": "2023-06-05T12:36:09.045673Z",
     "iopub.status.idle": "2023-06-05T12:36:13.937874Z",
     "shell.execute_reply": "2023-06-05T12:36:13.936693Z"
    },
    "papermill": {
     "duration": 4.904433,
     "end_time": "2023-06-05T12:36:13.940083",
     "exception": false,
     "start_time": "2023-06-05T12:36:09.035650",
     "status": "completed"
    },
    "tags": []
   },
   "outputs": [
    {
     "data": {
      "image/png": "[encoded data removed]",
      "text/plain": [
       "<Figure size 1000x1000 with 1 Axes>"
      ]
     },
     "metadata": {},
     "output_type": "display_data"
    }
   ],
   "source": [
    "from torchvision.utils import make_grid\n",
    "\n",
    "def show_batch(dl):\n",
    "    for i, (images, labels) in enumerate(dl):\n",
    "        if i == 10:\n",
    "            break\n",
    "        fig, ax = plt.subplots(figsize=(10, 10))\n",
    "        ax.imshow(make_grid(images[:12], 4).permute(1, 2, 0))\n",
    "        break\n",
    "        \n",
    "show_batch(train_dl)"
   ]
  },
  {
   "cell_type": "markdown",
   "id": "561a4c29",
   "metadata": {
    "papermill": {
     "duration": 0.009995,
     "end_time": "2023-06-05T12:36:13.959917",
     "exception": false,
     "start_time": "2023-06-05T12:36:13.949922",
     "status": "completed"
    },
    "tags": []
   },
   "source": [
    "# Model Creation"
   ]
  },
  {
   "cell_type": "code",
   "execution_count": 19,
   "id": "829acd4c",
   "metadata": {
    "execution": {
     "iopub.execute_input": "2023-06-05T12:36:13.981308Z",
     "iopub.status.busy": "2023-06-05T12:36:13.980700Z",
     "iopub.status.idle": "2023-06-05T12:36:13.989776Z",
     "shell.execute_reply": "2023-06-05T12:36:13.988896Z"
    },
    "papermill": {
     "duration": 0.021743,
     "end_time": "2023-06-05T12:36:13.991717",
     "exception": false,
     "start_time": "2023-06-05T12:36:13.969974",
     "status": "completed"
    },
    "tags": []
   },
   "outputs": [],
   "source": [
    "import torch.nn as nn\n",
    "\n",
    "def conv_2d(ni, nf, stride=1, ks=3):\n",
    "    return nn.Conv2d(in_channels=ni, out_channels=nf, kernel_size=ks, stride=stride, padding=ks//2, bias=False)\n",
    "\n",
    "def bn_relu_conv(ni, nf):\n",
    "    return nn.Sequential(nn.BatchNorm2d(ni), nn.ReLU(inplace=True), conv_2d(ni, nf))\n",
    "\n",
    "class ResidualBlock(nn.Module):\n",
    "    def __init__(self, ni, nf, stride=1):\n",
    "        super().__init__()\n",
    "        self.bn = nn.BatchNorm2d(ni)\n",
    "        self.conv1 = conv_2d(ni, nf, stride)\n",
    "        self.conv2 = bn_relu_conv(nf, nf)\n",
    "        self.shortcut = lambda x: x\n",
    "        if ni != nf:\n",
    "            self.shortcut = conv_2d(ni, nf, stride, 1)\n",
    "            \n",
    "    def forward(self, x):\n",
    "        x = F.relu(self.bn(x), inplace=True)\n",
    "        r = self.shortcut(x)\n",
    "        x = self.conv1(x)\n",
    "        x = self.conv2(x) * 0.2\n",
    "        return x.add_(r)"
   ]
  },
  {
   "cell_type": "code",
   "execution_count": 20,
   "id": "b8966fd3",
   "metadata": {
    "execution": {
     "iopub.execute_input": "2023-06-05T12:36:14.012129Z",
     "iopub.status.busy": "2023-06-05T12:36:14.011373Z",
     "iopub.status.idle": "2023-06-05T12:36:14.021222Z",
     "shell.execute_reply": "2023-06-05T12:36:14.020398Z"
    },
    "papermill": {
     "duration": 0.022057,
     "end_time": "2023-06-05T12:36:14.023178",
     "exception": false,
     "start_time": "2023-06-05T12:36:14.001121",
     "status": "completed"
    },
    "tags": []
   },
   "outputs": [],
   "source": [
    "def make_group(N, ni, nf, stride):\n",
    "    start = ResidualBlock(ni, nf, stride)\n",
    "    rest = [ResidualBlock(nf, nf) for j in range(1, N)]\n",
    "    return [start] + rest\n",
    "\n",
    "class Flatten(nn.Module):\n",
    "    def __init__(self):\n",
    "        super().__init__()\n",
    "    \n",
    "    def forward(self, x):\n",
    "        return x.view(x.size(0), -1)\n",
    "    \n",
    "class WideResNet(nn.Module):\n",
    "    def __init__(self, n_groups, N, n_classes, k=1, n_start=16):\n",
    "        super().__init__()\n",
    "        layers = [conv_2d(1, n_start)]\n",
    "        n_channels = [n_start]\n",
    "        for i in range(n_groups):\n",
    "            n_channels.append(n_start * (2**i) * k)\n",
    "            stride = 2 if i>0 else 1\n",
    "            layers += make_group(N, n_channels[i], n_channels[i+1], stride)\n",
    "        layers += [\n",
    "            nn.BatchNorm2d(n_channels[3]),\n",
    "            nn.ReLU(inplace=True),\n",
    "            nn.AdaptiveAvgPool2d(1),\n",
    "            Flatten(),\n",
    "            nn.Linear(n_channels[3], n_classes)\n",
    "        ]\n",
    "        \n",
    "        self.features = nn.Sequential(*layers)\n",
    "        \n",
    "    def forward(self, x):\n",
    "        return self.features(x)"
   ]
  },
  {
   "cell_type": "code",
   "execution_count": 21,
   "id": "e1e4b808",
   "metadata": {
    "execution": {
     "iopub.execute_input": "2023-06-05T12:36:14.044081Z",
     "iopub.status.busy": "2023-06-05T12:36:14.043359Z",
     "iopub.status.idle": "2023-06-05T12:36:14.047926Z",
     "shell.execute_reply": "2023-06-05T12:36:14.047137Z"
    },
    "papermill": {
     "duration": 0.016718,
     "end_time": "2023-06-05T12:36:14.049888",
     "exception": false,
     "start_time": "2023-06-05T12:36:14.033170",
     "status": "completed"
    },
    "tags": []
   },
   "outputs": [],
   "source": [
    "def wrn_22():\n",
    "    return WideResNet(n_groups=3, N=3, n_classes=10, k=6)"
   ]
  },
  {
   "cell_type": "code",
   "execution_count": 22,
   "id": "e7b2f7de",
   "metadata": {
    "execution": {
     "iopub.execute_input": "2023-06-05T12:36:14.070423Z",
     "iopub.status.busy": "2023-06-05T12:36:14.069702Z",
     "iopub.status.idle": "2023-06-05T12:36:14.151783Z",
     "shell.execute_reply": "2023-06-05T12:36:14.150812Z"
    },
    "papermill": {
     "duration": 0.094475,
     "end_time": "2023-06-05T12:36:14.154035",
     "exception": false,
     "start_time": "2023-06-05T12:36:14.059560",
     "status": "completed"
    },
    "tags": []
   },
   "outputs": [
    {
     "data": {
      "text/plain": [
       "WideResNet(\n",
       "  (features): Sequential(\n",
       "    (0): Conv2d(1, 16, kernel_size=(3, 3), stride=(1, 1), padding=(1, 1), bias=False)\n",
       "    (1): ResidualBlock(\n",
       "      (bn): BatchNorm2d(16, eps=1e-05, momentum=0.1, affine=True, track_running_stats=True)\n",
       "      (conv1): Conv2d(16, 96, kernel_size=(3, 3), stride=(1, 1), padding=(1, 1), bias=False)\n",
       "      (conv2): Sequential(\n",
       "        (0): BatchNorm2d(96, eps=1e-05, momentum=0.1, affine=True, track_running_stats=True)\n",
       "        (1): ReLU(inplace=True)\n",
       "        (2): Conv2d(96, 96, kernel_size=(3, 3), stride=(1, 1), padding=(1, 1), bias=False)\n",
       "      )\n",
       "      (shortcut): Conv2d(16, 96, kernel_size=(1, 1), stride=(1, 1), bias=False)\n",
       "    )\n",
       "    (2): ResidualBlock(\n",
       "      (bn): BatchNorm2d(96, eps=1e-05, momentum=0.1, affine=True, track_running_stats=True)\n",
       "      (conv1): Conv2d(96, 96, kernel_size=(3, 3), stride=(1, 1), padding=(1, 1), bias=False)\n",
       "      (conv2): Sequential(\n",
       "        (0): BatchNorm2d(96, eps=1e-05, momentum=0.1, affine=True, track_running_stats=True)\n",
       "        (1): ReLU(inplace=True)\n",
       "        (2): Conv2d(96, 96, kernel_size=(3, 3), stride=(1, 1), padding=(1, 1), bias=False)\n",
       "      )\n",
       "    )\n",
       "    (3): ResidualBlock(\n",
       "      (bn): BatchNorm2d(96, eps=1e-05, momentum=0.1, affine=True, track_running_stats=True)\n",
       "      (conv1): Conv2d(96, 96, kernel_size=(3, 3), stride=(1, 1), padding=(1, 1), bias=False)\n",
       "      (conv2): Sequential(\n",
       "        (0): BatchNorm2d(96, eps=1e-05, momentum=0.1, affine=True, track_running_stats=True)\n",
       "        (1): ReLU(inplace=True)\n",
       "        (2): Conv2d(96, 96, kernel_size=(3, 3), stride=(1, 1), padding=(1, 1), bias=False)\n",
       "      )\n",
       "    )\n",
       "    (4): ResidualBlock(\n",
       "      (bn): BatchNorm2d(96, eps=1e-05, momentum=0.1, affine=True, track_running_stats=True)\n",
       "      (conv1): Conv2d(96, 192, kernel_size=(3, 3), stride=(2, 2), padding=(1, 1), bias=False)\n",
       "      (conv2): Sequential(\n",
       "        (0): BatchNorm2d(192, eps=1e-05, momentum=0.1, affine=True, track_running_stats=True)\n",
       "        (1): ReLU(inplace=True)\n",
       "        (2): Conv2d(192, 192, kernel_size=(3, 3), stride=(1, 1), padding=(1, 1), bias=False)\n",
       "      )\n",
       "      (shortcut): Conv2d(96, 192, kernel_size=(1, 1), stride=(2, 2), bias=False)\n",
       "    )\n",
       "    (5): ResidualBlock(\n",
       "      (bn): BatchNorm2d(192, eps=1e-05, momentum=0.1, affine=True, track_running_stats=True)\n",
       "      (conv1): Conv2d(192, 192, kernel_size=(3, 3), stride=(1, 1), padding=(1, 1), bias=False)\n",
       "      (conv2): Sequential(\n",
       "        (0): BatchNorm2d(192, eps=1e-05, momentum=0.1, affine=True, track_running_stats=True)\n",
       "        (1): ReLU(inplace=True)\n",
       "        (2): Conv2d(192, 192, kernel_size=(3, 3), stride=(1, 1), padding=(1, 1), bias=False)\n",
       "      )\n",
       "    )\n",
       "    (6): ResidualBlock(\n",
       "      (bn): BatchNorm2d(192, eps=1e-05, momentum=0.1, affine=True, track_running_stats=True)\n",
       "      (conv1): Conv2d(192, 192, kernel_size=(3, 3), stride=(1, 1), padding=(1, 1), bias=False)\n",
       "      (conv2): Sequential(\n",
       "        (0): BatchNorm2d(192, eps=1e-05, momentum=0.1, affine=True, track_running_stats=True)\n",
       "        (1): ReLU(inplace=True)\n",
       "        (2): Conv2d(192, 192, kernel_size=(3, 3), stride=(1, 1), padding=(1, 1), bias=False)\n",
       "      )\n",
       "    )\n",
       "    (7): ResidualBlock(\n",
       "      (bn): BatchNorm2d(192, eps=1e-05, momentum=0.1, affine=True, track_running_stats=True)\n",
       "      (conv1): Conv2d(192, 384, kernel_size=(3, 3), stride=(2, 2), padding=(1, 1), bias=False)\n",
       "      (conv2): Sequential(\n",
       "        (0): BatchNorm2d(384, eps=1e-05, momentum=0.1, affine=True, track_running_stats=True)\n",
       "        (1): ReLU(inplace=True)\n",
       "        (2): Conv2d(384, 384, kernel_size=(3, 3), stride=(1, 1), padding=(1, 1), bias=False)\n",
       "      )\n",
       "      (shortcut): Conv2d(192, 384, kernel_size=(1, 1), stride=(2, 2), bias=False)\n",
       "    )\n",
       "    (8): ResidualBlock(\n",
       "      (bn): BatchNorm2d(384, eps=1e-05, momentum=0.1, affine=True, track_running_stats=True)\n",
       "      (conv1): Conv2d(384, 384, kernel_size=(3, 3), stride=(1, 1), padding=(1, 1), bias=False)\n",
       "      (conv2): Sequential(\n",
       "        (0): BatchNorm2d(384, eps=1e-05, momentum=0.1, affine=True, track_running_stats=True)\n",
       "        (1): ReLU(inplace=True)\n",
       "        (2): Conv2d(384, 384, kernel_size=(3, 3), stride=(1, 1), padding=(1, 1), bias=False)\n",
       "      )\n",
       "    )\n",
       "    (9): ResidualBlock(\n",
       "      (bn): BatchNorm2d(384, eps=1e-05, momentum=0.1, affine=True, track_running_stats=True)\n",
       "      (conv1): Conv2d(384, 384, kernel_size=(3, 3), stride=(1, 1), padding=(1, 1), bias=False)\n",
       "      (conv2): Sequential(\n",
       "        (0): BatchNorm2d(384, eps=1e-05, momentum=0.1, affine=True, track_running_stats=True)\n",
       "        (1): ReLU(inplace=True)\n",
       "        (2): Conv2d(384, 384, kernel_size=(3, 3), stride=(1, 1), padding=(1, 1), bias=False)\n",
       "      )\n",
       "    )\n",
       "    (10): BatchNorm2d(384, eps=1e-05, momentum=0.1, affine=True, track_running_stats=True)\n",
       "    (11): ReLU(inplace=True)\n",
       "    (12): AdaptiveAvgPool2d(output_size=1)\n",
       "    (13): Flatten()\n",
       "    (14): Linear(in_features=384, out_features=10, bias=True)\n",
       "  )\n",
       ")"
      ]
     },
     "execution_count": 22,
     "metadata": {},
     "output_type": "execute_result"
    }
   ],
   "source": [
    "model = wrn_22()\n",
    "model"
   ]
  },
  {
   "cell_type": "markdown",
   "id": "6d1d105e",
   "metadata": {
    "papermill": {
     "duration": 0.009432,
     "end_time": "2023-06-05T12:36:14.173228",
     "exception": false,
     "start_time": "2023-06-05T12:36:14.163796",
     "status": "completed"
    },
    "tags": []
   },
   "source": [
    "# Model Training"
   ]
  },
  {
   "cell_type": "code",
   "execution_count": 23,
   "id": "c6d403b8",
   "metadata": {
    "execution": {
     "iopub.execute_input": "2023-06-05T12:36:14.194105Z",
     "iopub.status.busy": "2023-06-05T12:36:14.193368Z",
     "iopub.status.idle": "2023-06-05T12:36:16.923796Z",
     "shell.execute_reply": "2023-06-05T12:36:16.922788Z"
    },
    "papermill": {
     "duration": 2.743688,
     "end_time": "2023-06-05T12:36:16.926573",
     "exception": false,
     "start_time": "2023-06-05T12:36:14.182885",
     "status": "completed"
    },
    "tags": []
   },
   "outputs": [],
   "source": [
    "from fastai.metrics import accuracy\n",
    "from fastai.vision.all import *"
   ]
  },
  {
   "cell_type": "code",
   "execution_count": 24,
   "id": "e350e980",
   "metadata": {
    "execution": {
     "iopub.execute_input": "2023-06-05T12:36:16.948080Z",
     "iopub.status.busy": "2023-06-05T12:36:16.947785Z",
     "iopub.status.idle": "2023-06-05T12:36:16.953559Z",
     "shell.execute_reply": "2023-06-05T12:36:16.952353Z"
    },
    "papermill": {
     "duration": 0.019147,
     "end_time": "2023-06-05T12:36:16.956061",
     "exception": false,
     "start_time": "2023-06-05T12:36:16.936914",
     "status": "completed"
    },
    "tags": []
   },
   "outputs": [],
   "source": [
    "learn = Learner(DataLoaders(train_dl, val_dl), model, metrics=accuracy, loss_func=F.cross_entropy)"
   ]
  },
  {
   "cell_type": "code",
   "execution_count": 25,
   "id": "4a650cba",
   "metadata": {
    "execution": {
     "iopub.execute_input": "2023-06-05T12:36:16.976760Z",
     "iopub.status.busy": "2023-06-05T12:36:16.976507Z",
     "iopub.status.idle": "2023-06-05T12:36:56.008234Z",
     "shell.execute_reply": "2023-06-05T12:36:56.007017Z"
    },
    "papermill": {
     "duration": 39.044474,
     "end_time": "2023-06-05T12:36:56.010379",
     "exception": false,
     "start_time": "2023-06-05T12:36:16.965905",
     "status": "completed"
    },
    "tags": []
   },
   "outputs": [
    {
     "data": {
      "text/html": [
       "\n",
       "<style>\n",
       "    /* Turns off some styling */\n",
       "    progress {\n",
       "        /* gets rid of default border in Firefox and Opera. */\n",
       "        border: none;\n",
       "        /* Needs to be in here for Safari polyfill so background images work as expected. */\n",
       "        background-size: auto;\n",
       "    }\n",
       "    progress:not([value]), progress:not([value])::-webkit-progress-bar {\n",
       "        background: repeating-linear-gradient(45deg, #7e7e7e, #7e7e7e 10px, #5c5c5c 10px, #5c5c5c 20px);\n",
       "    }\n",
       "    .progress-bar-interrupted, .progress-bar-interrupted::-webkit-progress-bar {\n",
       "        background: #F44336;\n",
       "    }\n",
       "</style>\n"
      ],
      "text/plain": [
       "<IPython.core.display.HTML object>"
      ]
     },
     "metadata": {},
     "output_type": "display_data"
    },
    {
     "data": {
      "text/html": [],
      "text/plain": [
       "<IPython.core.display.HTML object>"
      ]
     },
     "metadata": {},
     "output_type": "display_data"
    },
    {
     "data": {
      "text/plain": [
       "SuggestedLRs(valley=0.0012022644514217973)"
      ]
     },
     "execution_count": 25,
     "metadata": {},
     "output_type": "execute_result"
    },
    {
     "data": {
      "image/png": "[encoded data removed]",
      "text/plain": [
       "<Figure size 640x480 with 1 Axes>"
      ]
     },
     "metadata": {},
     "output_type": "display_data"
    }
   ],
   "source": [
    "learn.clip = 0.1\n",
    "learn.lr_find()"
   ]
  },
  {
   "cell_type": "code",
   "execution_count": 26,
   "id": "5a442836",
   "metadata": {
    "execution": {
     "iopub.execute_input": "2023-06-05T12:36:56.033355Z",
     "iopub.status.busy": "2023-06-05T12:36:56.033041Z",
     "iopub.status.idle": "2023-06-05T12:49:34.538176Z",
     "shell.execute_reply": "2023-06-05T12:49:34.537137Z"
    },
    "papermill": {
     "duration": 758.518866,
     "end_time": "2023-06-05T12:49:34.540249",
     "exception": false,
     "start_time": "2023-06-05T12:36:56.021383",
     "status": "completed"
    },
    "tags": []
   },
   "outputs": [
    {
     "data": {
      "text/html": [
       "\n",
       "<style>\n",
       "    /* Turns off some styling */\n",
       "    progress {\n",
       "        /* gets rid of default border in Firefox and Opera. */\n",
       "        border: none;\n",
       "        /* Needs to be in here for Safari polyfill so background images work as expected. */\n",
       "        background-size: auto;\n",
       "    }\n",
       "    progress:not([value]), progress:not([value])::-webkit-progress-bar {\n",
       "        background: repeating-linear-gradient(45deg, #7e7e7e, #7e7e7e 10px, #5c5c5c 10px, #5c5c5c 20px);\n",
       "    }\n",
       "    .progress-bar-interrupted, .progress-bar-interrupted::-webkit-progress-bar {\n",
       "        background: #F44336;\n",
       "    }\n",
       "</style>\n"
      ],
      "text/plain": [
       "<IPython.core.display.HTML object>"
      ]
     },
     "metadata": {},
     "output_type": "display_data"
    },
    {
     "data": {
      "text/html": [
       "<table border=\"1\" class=\"dataframe\">\n",
       "  <thead>\n",
       "    <tr style=\"text-align: left;\">\n",
       "      <th>epoch</th>\n",
       "      <th>train_loss</th>\n",
       "      <th>valid_loss</th>\n",
       "      <th>accuracy</th>\n",
       "      <th>time</th>\n",
       "    </tr>\n",
       "  </thead>\n",
       "  <tbody>\n",
       "    <tr>\n",
       "      <td>0</td>\n",
       "      <td>0.854083</td>\n",
       "      <td>0.255718</td>\n",
       "      <td>0.940952</td>\n",
       "      <td>00:50</td>\n",
       "    </tr>\n",
       "    <tr>\n",
       "      <td>1</td>\n",
       "      <td>0.139803</td>\n",
       "      <td>0.087462</td>\n",
       "      <td>0.975238</td>\n",
       "      <td>00:50</td>\n",
       "    </tr>\n",
       "    <tr>\n",
       "      <td>2</td>\n",
       "      <td>0.079419</td>\n",
       "      <td>0.493773</td>\n",
       "      <td>0.869048</td>\n",
       "      <td>00:51</td>\n",
       "    </tr>\n",
       "    <tr>\n",
       "      <td>3</td>\n",
       "      <td>0.065308</td>\n",
       "      <td>0.084146</td>\n",
       "      <td>0.973810</td>\n",
       "      <td>00:52</td>\n",
       "    </tr>\n",
       "    <tr>\n",
       "      <td>4</td>\n",
       "      <td>0.054247</td>\n",
       "      <td>0.047060</td>\n",
       "      <td>0.988095</td>\n",
       "      <td>00:50</td>\n",
       "    </tr>\n",
       "    <tr>\n",
       "      <td>5</td>\n",
       "      <td>0.047920</td>\n",
       "      <td>0.035967</td>\n",
       "      <td>0.989524</td>\n",
       "      <td>00:51</td>\n",
       "    </tr>\n",
       "    <tr>\n",
       "      <td>6</td>\n",
       "      <td>0.040441</td>\n",
       "      <td>0.026950</td>\n",
       "      <td>0.989524</td>\n",
       "      <td>00:49</td>\n",
       "    </tr>\n",
       "    <tr>\n",
       "      <td>7</td>\n",
       "      <td>0.034103</td>\n",
       "      <td>0.028888</td>\n",
       "      <td>0.990476</td>\n",
       "      <td>00:50</td>\n",
       "    </tr>\n",
       "    <tr>\n",
       "      <td>8</td>\n",
       "      <td>0.032447</td>\n",
       "      <td>0.016047</td>\n",
       "      <td>0.993810</td>\n",
       "      <td>00:50</td>\n",
       "    </tr>\n",
       "    <tr>\n",
       "      <td>9</td>\n",
       "      <td>0.025469</td>\n",
       "      <td>0.015831</td>\n",
       "      <td>0.995238</td>\n",
       "      <td>00:50</td>\n",
       "    </tr>\n",
       "    <tr>\n",
       "      <td>10</td>\n",
       "      <td>0.021237</td>\n",
       "      <td>0.018185</td>\n",
       "      <td>0.993810</td>\n",
       "      <td>00:50</td>\n",
       "    </tr>\n",
       "    <tr>\n",
       "      <td>11</td>\n",
       "      <td>0.020312</td>\n",
       "      <td>0.013918</td>\n",
       "      <td>0.995714</td>\n",
       "      <td>00:50</td>\n",
       "    </tr>\n",
       "    <tr>\n",
       "      <td>12</td>\n",
       "      <td>0.017464</td>\n",
       "      <td>0.014018</td>\n",
       "      <td>0.995714</td>\n",
       "      <td>00:50</td>\n",
       "    </tr>\n",
       "    <tr>\n",
       "      <td>13</td>\n",
       "      <td>0.015577</td>\n",
       "      <td>0.013029</td>\n",
       "      <td>0.996667</td>\n",
       "      <td>00:50</td>\n",
       "    </tr>\n",
       "    <tr>\n",
       "      <td>14</td>\n",
       "      <td>0.012828</td>\n",
       "      <td>0.012841</td>\n",
       "      <td>0.996667</td>\n",
       "      <td>00:49</td>\n",
       "    </tr>\n",
       "  </tbody>\n",
       "</table>"
      ],
      "text/plain": [
       "<IPython.core.display.HTML object>"
      ]
     },
     "metadata": {},
     "output_type": "display_data"
    }
   ],
   "source": [
    "learn.fit_one_cycle(n_epoch=15, lr_max=0.001, wd=1e-4)"
   ]
  },
  {
   "cell_type": "markdown",
   "id": "f93bfbc5",
   "metadata": {
    "papermill": {
     "duration": 0.01087,
     "end_time": "2023-06-05T12:49:34.562416",
     "exception": false,
     "start_time": "2023-06-05T12:49:34.551546",
     "status": "completed"
    },
    "tags": []
   },
   "source": [
    "# Prediction and Submission"
   ]
  },
  {
   "cell_type": "code",
   "execution_count": 27,
   "id": "51b1c7b8",
   "metadata": {
    "execution": {
     "iopub.execute_input": "2023-06-05T12:49:34.586698Z",
     "iopub.status.busy": "2023-06-05T12:49:34.585231Z",
     "iopub.status.idle": "2023-06-05T12:49:34.591523Z",
     "shell.execute_reply": "2023-06-05T12:49:34.590697Z"
    },
    "papermill": {
     "duration": 0.020345,
     "end_time": "2023-06-05T12:49:34.593507",
     "exception": false,
     "start_time": "2023-06-05T12:49:34.573162",
     "status": "completed"
    },
    "tags": []
   },
   "outputs": [],
   "source": [
    "test_dl = DataLoader(test_dataset, batch_size, shuffle=False, num_workers=2, pin_memory=True)"
   ]
  },
  {
   "cell_type": "code",
   "execution_count": 28,
   "id": "dfa8aba4",
   "metadata": {
    "execution": {
     "iopub.execute_input": "2023-06-05T12:49:34.616240Z",
     "iopub.status.busy": "2023-06-05T12:49:34.615965Z",
     "iopub.status.idle": "2023-06-05T12:49:45.868694Z",
     "shell.execute_reply": "2023-06-05T12:49:45.867475Z"
    },
    "papermill": {
     "duration": 11.266887,
     "end_time": "2023-06-05T12:49:45.871171",
     "exception": false,
     "start_time": "2023-06-05T12:49:34.604284",
     "status": "completed"
    },
    "tags": []
   },
   "outputs": [],
   "source": [
    "predictions = []\n",
    "\n",
    "for images in test_dl:\n",
    "    images = images.to('cuda')\n",
    "    output = model(images)\n",
    "    _, predicted = torch.max(output, 1)\n",
    "    predictions.extend(predicted.tolist())"
   ]
  },
  {
   "cell_type": "code",
   "execution_count": 29,
   "id": "355ed922",
   "metadata": {
    "execution": {
     "iopub.execute_input": "2023-06-05T12:49:45.895402Z",
     "iopub.status.busy": "2023-06-05T12:49:45.895060Z",
     "iopub.status.idle": "2023-06-05T12:49:45.924175Z",
     "shell.execute_reply": "2023-06-05T12:49:45.923338Z"
    },
    "papermill": {
     "duration": 0.043504,
     "end_time": "2023-06-05T12:49:45.926167",
     "exception": false,
     "start_time": "2023-06-05T12:49:45.882663",
     "status": "completed"
    },
    "tags": []
   },
   "outputs": [],
   "source": [
    "tst_dirs = os.listdir('./data/test')\n",
    "tst_data = [(tst_dirs[i], predictions[i]) for i in range(len(predictions))]"
   ]
  },
  {
   "cell_type": "code",
   "execution_count": 30,
   "id": "589ea309",
   "metadata": {
    "execution": {
     "iopub.execute_input": "2023-06-05T12:49:45.949879Z",
     "iopub.status.busy": "2023-06-05T12:49:45.949607Z",
     "iopub.status.idle": "2023-06-05T12:49:46.013698Z",
     "shell.execute_reply": "2023-06-05T12:49:46.012879Z"
    },
    "papermill": {
     "duration": 0.077818,
     "end_time": "2023-06-05T12:49:46.015582",
     "exception": false,
     "start_time": "2023-06-05T12:49:45.937764",
     "status": "completed"
    },
    "tags": []
   },
   "outputs": [],
   "source": [
    "tst_data = sorted(tst_data, key=lambda x: int(re.findall(r'\\d+', x[0])[0]))"
   ]
  },
  {
   "cell_type": "code",
   "execution_count": 31,
   "id": "8d7928ef",
   "metadata": {
    "execution": {
     "iopub.execute_input": "2023-06-05T12:49:46.038904Z",
     "iopub.status.busy": "2023-06-05T12:49:46.038634Z",
     "iopub.status.idle": "2023-06-05T12:49:46.046523Z",
     "shell.execute_reply": "2023-06-05T12:49:46.045672Z"
    },
    "papermill": {
     "duration": 0.021765,
     "end_time": "2023-06-05T12:49:46.048507",
     "exception": false,
     "start_time": "2023-06-05T12:49:46.026742",
     "status": "completed"
    },
    "tags": []
   },
   "outputs": [
    {
     "data": {
      "text/plain": [
       "[2, 0, 9, 0, 3, 7, 0, 3, 0, 3]"
      ]
     },
     "execution_count": 31,
     "metadata": {},
     "output_type": "execute_result"
    }
   ],
   "source": [
    "preds = [item[1] for item in tst_data]\n",
    "preds[:10]"
   ]
  },
  {
   "cell_type": "code",
   "execution_count": 32,
   "id": "ecce417b",
   "metadata": {
    "execution": {
     "iopub.execute_input": "2023-06-05T12:49:46.072226Z",
     "iopub.status.busy": "2023-06-05T12:49:46.071959Z",
     "iopub.status.idle": "2023-06-05T12:49:46.171116Z",
     "shell.execute_reply": "2023-06-05T12:49:46.170134Z"
    },
    "papermill": {
     "duration": 0.113553,
     "end_time": "2023-06-05T12:49:46.173338",
     "exception": false,
     "start_time": "2023-06-05T12:49:46.059785",
     "status": "completed"
    },
    "tags": []
   },
   "outputs": [
    {
     "data": {
      "text/html": [
       "<div>\n",
       "<style scoped>\n",
       "    .dataframe tbody tr th:only-of-type {\n",
       "        vertical-align: middle;\n",
       "    }\n",
       "\n",
       "    .dataframe tbody tr th {\n",
       "        vertical-align: top;\n",
       "    }\n",
       "\n",
       "    .dataframe thead th {\n",
       "        text-align: right;\n",
       "    }\n",
       "</style>\n",
       "<table border=\"1\" class=\"dataframe\">\n",
       "  <thead>\n",
       "    <tr style=\"text-align: right;\">\n",
       "      <th></th>\n",
       "      <th>ImageId</th>\n",
       "      <th>Label</th>\n",
       "    </tr>\n",
       "  </thead>\n",
       "  <tbody>\n",
       "    <tr>\n",
       "      <th>0</th>\n",
       "      <td>1</td>\n",
       "      <td>2</td>\n",
       "    </tr>\n",
       "    <tr>\n",
       "      <th>1</th>\n",
       "      <td>2</td>\n",
       "      <td>0</td>\n",
       "    </tr>\n",
       "    <tr>\n",
       "      <th>2</th>\n",
       "      <td>3</td>\n",
       "      <td>9</td>\n",
       "    </tr>\n",
       "    <tr>\n",
       "      <th>3</th>\n",
       "      <td>4</td>\n",
       "      <td>0</td>\n",
       "    </tr>\n",
       "    <tr>\n",
       "      <th>4</th>\n",
       "      <td>5</td>\n",
       "      <td>3</td>\n",
       "    </tr>\n",
       "  </tbody>\n",
       "</table>\n",
       "</div>"
      ],
      "text/plain": [
       "   ImageId  Label\n",
       "0        1      2\n",
       "1        2      0\n",
       "2        3      9\n",
       "3        4      0\n",
       "4        5      3"
      ]
     },
     "execution_count": 32,
     "metadata": {},
     "output_type": "execute_result"
    }
   ],
   "source": [
    "sub_df = pd.read_csv(\"/kaggle/input/digit-recognizer/sample_submission.csv\")\n",
    "sub_df['Label'] = preds\n",
    "sub_df.to_csv(\"submission.csv\", index=False)\n",
    "sub_df.head()"
   ]
  }
 ],
 "metadata": {
  "kernelspec": {
   "display_name": "Python 3",
   "language": "python",
   "name": "python3"
  },
  "language_info": {
   "codemirror_mode": {
    "name": "ipython",
    "version": 3
   },
   "file_extension": ".py",
   "mimetype": "text/x-python",
   "name": "python",
   "nbconvert_exporter": "python",
   "pygments_lexer": "ipython3",
   "version": "3.10.10"
  },
  "papermill": {
   "default_parameters": {},
   "duration": 855.15357,
   "end_time": "2023-06-05T12:49:49.753502",
   "environment_variables": {},
   "exception": null,
   "input_path": "__notebook__.ipynb",
   "output_path": "__notebook__.ipynb",
   "parameters": {},
   "start_time": "2023-06-05T12:35:34.599932",
   "version": "2.4.0"
  }
 },
 "nbformat": 4,
 "nbformat_minor": 5
}
